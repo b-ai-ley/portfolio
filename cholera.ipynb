{
 "cells": [
  {
   "cell_type": "markdown",
   "metadata": {},
   "source": [
    "[arcgis historic cholera outbreak](https://learn.arcgis.com/en/projects/map-a-historic-cholera-outbreak/)\n",
    "\n",
    "\n",
    "[boston cholera](https://globalboston.bc.edu/index.php/cholera-report/)\n",
    "\n"
   ]
  },
  {
   "cell_type": "markdown",
   "metadata": {},
   "source": [
    "an early famous example of the use of GIS was John Snow's Cholera outbreak in 1854 in London.\n",
    "\n",
    "an earlier Cholera outbreak in 1849 in Boston resulted in 611 victims, 500 being poor irish immigrants living in squalid conditions.\n",
    "This project is an exploration of the potential remedial plans that could have been used to mitigate the spread of cholera in the 1849 outbreak that would be used in the 1854 outbreak 5 years later."
   ]
  },
  {
   "cell_type": "code",
   "execution_count": null,
   "metadata": {},
   "outputs": [],
   "source": []
  },
  {
   "cell_type": "markdown",
   "metadata": {},
   "source": [
    "this is an extrapolation of the same project idea applied to the spread of covid in various american cities, compared to their actual covid response"
   ]
  }
 ],
 "metadata": {
  "kernelspec": {
   "display_name": "Python 3.10.8 ('fulcra_env')",
   "language": "python",
   "name": "python3"
  },
  "language_info": {
   "name": "python",
   "version": "3.10.8"
  },
  "orig_nbformat": 4,
  "vscode": {
   "interpreter": {
    "hash": "203f8245b470ea291719d9f524f54f6eb3be99715316aa8f82f087d4ce1a9b72"
   }
  }
 },
 "nbformat": 4,
 "nbformat_minor": 2
}
