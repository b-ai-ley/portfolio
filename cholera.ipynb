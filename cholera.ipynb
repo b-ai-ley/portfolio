{
 "cells": [
  {
   "cell_type": "markdown",
   "metadata": {},
   "source": [
    "[arcgis historic cholera outbreak](https://learn.arcgis.com/en/projects/map-a-historic-cholera-outbreak/)\n",
    "\n",
    "\n",
    "[boston cholera](https://globalboston.bc.edu/index.php/cholera-report/)\n",
    "\n"
   ]
  },
  {
   "cell_type": "markdown",
   "metadata": {},
   "source": [
    "an early famous example of the use of GIS was John Snow's Cholera outbreak in 1854 in London.\n",
    "\n",
    "an earlier Cholera outbreak in 1849 in Boston resulted in 611 victims, 500 being poor irish immigrants living in squalid conditions.\n",
    "This project is an exploration of the potential remedial plans that could have been used to mitigate the spread of cholera in the 1849 outbreak that would be used in the 1854 outbreak 5 years later."
   ]
  },
  {
   "cell_type": "code",
   "execution_count": null,
   "metadata": {},
   "outputs": [],
   "source": []
  }
 ],
 "metadata": {
  "language_info": {
   "name": "python"
  },
  "orig_nbformat": 4
 },
 "nbformat": 4,
 "nbformat_minor": 2
}
